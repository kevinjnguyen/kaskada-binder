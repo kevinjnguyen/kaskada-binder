{
 "cells": [
  {
   "cell_type": "markdown",
   "id": "58957770",
   "metadata": {},
   "source": [
    "# Hello World Example\n",
    "\n",
    "The goal of this notebook is to provide a hello world example of using Kaskada hosted as a Binder notebook. The notebook is designed to run from top to bottom and explain the fundamentals of Kaskada. In this notebook, we will cover:\n",
    "\n",
    "* Local session with a local builder.\n",
    "* Creating and loading data to a table.\n",
    "* Running queries \n",
    "* Creating views\n",
    "\n",
    "*Last modified on 3/6/2023.*"
   ]
  },
  {
   "cell_type": "markdown",
   "id": "34cd926a",
   "metadata": {},
   "source": [
    "## Local Session\n",
    "\n",
    "A local session is created by using the `LocalBuilder` object as part of the `kaskada.api.session` module. By default, the builder will fetch the latest release from GitHub and attempt to download/run the correct system binaries. There is a basic caching mechanism designed to reuse existing downloads."
   ]
  },
  {
   "cell_type": "markdown",
   "id": "cb2c26ab",
   "metadata": {},
   "source": [
    "### TODO: Remove once public\n",
    "\n",
    "The following step is required because the Kaskada repo is not public yet. Once public, we can remove this step and no additional authentication is required."
   ]
  },
  {
   "cell_type": "code",
   "execution_count": null,
   "id": "d9032708",
   "metadata": {},
   "outputs": [],
   "source": [
    "import kaskada.api.release as release\n",
    "import os\n",
    "from getpass import getpass\n",
    "\n",
    "os.environ[release.ReleaseClient.GITHUB_ACCESS_TOKEN_ENV] = getpass(prompt='Github Access Token:')"
   ]
  },
  {
   "cell_type": "code",
   "execution_count": null,
   "id": "1bde721a",
   "metadata": {},
   "outputs": [],
   "source": [
    "from kaskada.api.session import LocalBuilder\n",
    "session = LocalBuilder().build()"
   ]
  },
  {
   "cell_type": "markdown",
   "id": "30456e86",
   "metadata": {},
   "source": [
    "## Example Data\n",
    "\n",
    "Kaskada is able to read Parquet and CSV data. In this example, we will read a CSV file included called `dataset1.csv`."
   ]
  },
  {
   "cell_type": "code",
   "execution_count": null,
   "id": "e25daf60",
   "metadata": {},
   "outputs": [],
   "source": [
    "import pandas as pd\n",
    "pd.read_csv('dataset1.csv')"
   ]
  },
  {
   "cell_type": "markdown",
   "id": "262bc7f7",
   "metadata": {},
   "source": [
    "## Create a Table\n",
    "\n",
    "Data is loaded to Kaskada through a Table. To create a table, you will need the entity key and time column names. The Kaskada python client follows a service module separation so all table related operations are under the `table` module."
   ]
  },
  {
   "cell_type": "code",
   "execution_count": null,
   "id": "dfb26bc6",
   "metadata": {},
   "outputs": [],
   "source": [
    "import kaskada.table\n",
    "kaskada.table.create_table(table_name='transactions', entity_key_column_name='id', time_column_name='time')"
   ]
  },
  {
   "cell_type": "markdown",
   "id": "4f3ebe26",
   "metadata": {},
   "source": [
    "## Load Data to a Table\n",
    "\n",
    "Data is loaded to a table through the `load` method. Currently, we accept CSV or Parquet data."
   ]
  },
  {
   "cell_type": "code",
   "execution_count": null,
   "id": "49e3b1d1",
   "metadata": {},
   "outputs": [],
   "source": [
    "kaskada.table.load('transactions', 'dataset1.csv')"
   ]
  },
  {
   "cell_type": "markdown",
   "id": "31b4d151",
   "metadata": {},
   "source": [
    "## See all your tables\n",
    "\n",
    "Tables are a managed resource and can be seen in detail by listing or getting them."
   ]
  },
  {
   "cell_type": "code",
   "execution_count": null,
   "id": "cd8b2259",
   "metadata": {},
   "outputs": [],
   "source": [
    "kaskada.table.list_tables()"
   ]
  },
  {
   "cell_type": "code",
   "execution_count": null,
   "id": "85dc4ff5",
   "metadata": {},
   "outputs": [],
   "source": [
    "kaskada.table.get_table('transactions')"
   ]
  },
  {
   "cell_type": "markdown",
   "id": "3676047c",
   "metadata": {},
   "source": [
    "## Start Feature Engineering\n",
    "\n",
    "Once your data is in a table, you can begin the journey of feature engineering using our magic extension `fenlmagic`. To load the extension: `%load_ext fenlmagic`."
   ]
  },
  {
   "cell_type": "code",
   "execution_count": null,
   "id": "fd8933c7",
   "metadata": {},
   "outputs": [],
   "source": [
    "%load_ext fenlmagic"
   ]
  },
  {
   "cell_type": "markdown",
   "id": "6d0ed334",
   "metadata": {},
   "source": [
    "## Run some queries\n",
    "\n",
    "Queries are ran as multi-line cell magics with `%%fenl`. Here are some examples:"
   ]
  },
  {
   "cell_type": "code",
   "execution_count": null,
   "id": "dd7b8747",
   "metadata": {},
   "outputs": [],
   "source": [
    "%%fenl\n",
    "{\n",
    "  last_transaction: last(transactions.amount)\n",
    "}"
   ]
  },
  {
   "cell_type": "markdown",
   "id": "730f91bd",
   "metadata": {},
   "source": [
    "## Queries as variables\n",
    "\n",
    "The results of queries can be saved to a variable for subsequent use by using the `--var` parameter."
   ]
  },
  {
   "cell_type": "code",
   "execution_count": null,
   "id": "5279b0e3",
   "metadata": {},
   "outputs": [],
   "source": [
    "%%fenl --var my_query\n",
    "{\n",
    "  last_transaction: last(transactions.amount)\n",
    "}"
   ]
  },
  {
   "cell_type": "code",
   "execution_count": null,
   "id": "813d8684",
   "metadata": {},
   "outputs": [],
   "source": [
    "# Get the original query used\n",
    "my_query.query"
   ]
  },
  {
   "cell_type": "markdown",
   "id": "d0c0130d",
   "metadata": {},
   "source": [
    "## See previous queries\n",
    "\n",
    "The metadata used for a query is stored and can be retrieved using a list queries call."
   ]
  },
  {
   "cell_type": "code",
   "execution_count": null,
   "id": "e71474bc",
   "metadata": {},
   "outputs": [],
   "source": [
    "import kaskada.query\n",
    "kaskada.query.list_queries()"
   ]
  },
  {
   "cell_type": "markdown",
   "id": "aa255872",
   "metadata": {},
   "source": [
    "## Views\n",
    "\n",
    "Views are named fenl expressions that can be referenced in other fenl expressions or in materializations."
   ]
  },
  {
   "cell_type": "code",
   "execution_count": null,
   "id": "f52fc3c6",
   "metadata": {},
   "outputs": [],
   "source": [
    "import kaskada.view\n",
    "kaskada.view.create_view(view_name = 'my_first_view', expression=\"last(transactions.amount)\")"
   ]
  },
  {
   "cell_type": "code",
   "execution_count": null,
   "id": "2b24d0f9",
   "metadata": {},
   "outputs": [],
   "source": [
    "# Create a view from an existing query\n",
    "previous_query = kaskada.query.list_queries().queries[0]\n",
    "previous_query\n",
    "kaskada.view.create_view(view_name = \"my_second_view\", expression=previous_query.expression)"
   ]
  },
  {
   "cell_type": "markdown",
   "id": "cc66efd4",
   "metadata": {},
   "source": [
    "## Views in Queries\n",
    "\n",
    "A view can be referenced by name in a query"
   ]
  },
  {
   "cell_type": "code",
   "execution_count": null,
   "id": "107bca63",
   "metadata": {},
   "outputs": [],
   "source": [
    "%%fenl\n",
    "my_second_view"
   ]
  },
  {
   "cell_type": "code",
   "execution_count": null,
   "id": "e8f58586",
   "metadata": {},
   "outputs": [],
   "source": [
    "%%fenl\n",
    "my_first_view"
   ]
  }
 ],
 "metadata": {
  "kernelspec": {
   "display_name": "Python 3 (ipykernel)",
   "language": "python",
   "name": "python3"
  },
  "language_info": {
   "codemirror_mode": {
    "name": "ipython",
    "version": 3
   },
   "file_extension": ".py",
   "mimetype": "text/x-python",
   "name": "python",
   "nbconvert_exporter": "python",
   "pygments_lexer": "ipython3",
   "version": "3.8.16"
  },
  "vscode": {
   "interpreter": {
    "hash": "2a73044caba96c9b65200f613888b01ede560b58bfea27aeaeca02e7a5f7b80b"
   }
  }
 },
 "nbformat": 4,
 "nbformat_minor": 5
}
